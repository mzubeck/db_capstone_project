{
 "cells": [
  {
   "cell_type": "code",
   "execution_count": 28,
   "id": "07cc60be",
   "metadata": {},
   "outputs": [],
   "source": [
    "import mysql.connector as connector"
   ]
  },
  {
   "cell_type": "code",
   "execution_count": 29,
   "id": "b1ebcc8e",
   "metadata": {},
   "outputs": [],
   "source": [
    "connection = connector.connect(user='Capstone User', password='password', db='capstone_project')"
   ]
  },
  {
   "cell_type": "code",
   "execution_count": 30,
   "id": "ed84c1bf",
   "metadata": {},
   "outputs": [],
   "source": [
    "cursor = connection.cursor()"
   ]
  },
  {
   "cell_type": "code",
   "execution_count": 31,
   "id": "599df5d8",
   "metadata": {},
   "outputs": [
    {
     "name": "stdout",
     "output_type": "stream",
     "text": [
      "('booking_status',)\n",
      "('bookings',)\n",
      "('bookingstatus',)\n",
      "('confirm',)\n",
      "('confirmation',)\n",
      "('confirmview',)\n",
      "('customers',)\n",
      "('deleteview',)\n",
      "('menu',)\n",
      "('menuitems',)\n",
      "('orderdeliverystatus',)\n",
      "('orders',)\n",
      "('ordersview',)\n",
      "('staff',)\n",
      "('status',)\n"
     ]
    }
   ],
   "source": [
    "#print all tables and views\n",
    "cursor.execute(\"SHOW TABLES\")\n",
    "results = cursor.fetchall()\n",
    "for table in results:\n",
    "    print(table)"
   ]
  },
  {
   "cell_type": "code",
   "execution_count": 35,
   "id": "68bf3df4",
   "metadata": {},
   "outputs": [
    {
     "name": "stdout",
     "output_type": "stream",
     "text": [
      "FullName, Phone, Email, Cost\n",
      "\n",
      "Altay Ayhan, 351208983, awertysdf@loi1.com, 140\n",
      "Laurina Delgado, 351342597, asjkxc@loi1.com, 150\n",
      "Altay Ayhan, 351208983, awertysdf@loi1.com, 200\n",
      "Jane Murphy, 351567243, ateyf@loi1.com, 240\n",
      "Jane Murphy, 351567243, ateyf@loi1.com, 245\n",
      "Laurina Delgado, 351342597, asjkxc@loi1.com, 380\n",
      "Benjamin Clauss, 351342509, asxvcntf@loi1.com, 430\n",
      "Takashi Ito, 351786345, asdf@loi1.com, 450\n",
      "Jane Murphy, 351567243, ateyf@loi1.com, 560\n",
      "Benjamin Clauss, 351342509, asxvcntf@loi1.com, 860\n",
      "Greta Galkina, 351298755, asetxsdf@loi1.com, 930\n"
     ]
    }
   ],
   "source": [
    "#create select statement\n",
    "\n",
    "join_query=\"\"\"SELECT CONCAT(C.FirstName, ' ', C.LastName) AS FullName, C.Phone, C.Email, O.Cost\n",
    "FROM Customers as C\n",
    "INNER JOIN Orders as O\n",
    "ON C.CustomerID = O.CustomerID\n",
    "WHERE O.Cost > 60\n",
    "ORDER BY O.Cost;\"\"\"\n",
    "\n",
    "\n",
    "cursor.execute(join_query)\n",
    "promotions=cursor.fetchall()\n",
    "cols = cursor.column_names\n",
    "print('{}, {}, {}, {}\\n'.format(cols[0], cols[1], cols[2], cols[3]))\n",
    "for customer in promotions:\n",
    "    print('{}, {}, {}, {}'.format(customer[0],customer[1],customer[2],customer[3]))"
   ]
  },
  {
   "cell_type": "code",
   "execution_count": null,
   "id": "84777939",
   "metadata": {},
   "outputs": [],
   "source": []
  }
 ],
 "metadata": {
  "kernelspec": {
   "display_name": "Python 3 (ipykernel)",
   "language": "python",
   "name": "python3"
  },
  "language_info": {
   "codemirror_mode": {
    "name": "ipython",
    "version": 3
   },
   "file_extension": ".py",
   "mimetype": "text/x-python",
   "name": "python",
   "nbconvert_exporter": "python",
   "pygments_lexer": "ipython3",
   "version": "3.10.11"
  }
 },
 "nbformat": 4,
 "nbformat_minor": 5
}
